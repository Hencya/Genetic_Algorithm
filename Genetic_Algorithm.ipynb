{
  "nbformat": 4,
  "nbformat_minor": 0,
  "metadata": {
    "colab": {
      "name": "Genetic Algorithm Kelompok 3.ipynb",
      "provenance": [],
      "collapsed_sections": []
    },
    "kernelspec": {
      "display_name": "Python 3",
      "name": "python3"
    }
  },
  "cells": [
    {
      "cell_type": "markdown",
      "metadata": {
        "id": "2yR-pvvxtBAK"
      },
      "source": [
        "## <strong>Import Module Bawaan Python</strong>\n",
        "\n",
        "\n",
        "\n",
        "*   Math (Module untuk fungsi matematika di dalam python)\n",
        "*   Random (Module untuk membuat angka acak di dalam python)\n",
        "\n",
        "**Inisiasi nilai dari seed agar setiap program di running mengeluarkan hasil yang sama**"
      ]
    },
    {
      "cell_type": "code",
      "metadata": {
        "id": "x7RTvOIMG2Kh"
      },
      "source": [
        "import random\n",
        "import math\n",
        "\n",
        "seed = 15790490230\n",
        "random.seed(seed)"
      ],
      "execution_count": null,
      "outputs": []
    },
    {
      "cell_type": "markdown",
      "metadata": {
        "id": "eTo65yq-yZOe"
      },
      "source": [
        "## <strong>Membuat Populasi</strong>\n",
        "\n",
        "Fungsi generate_population(length, n) berguna untuk membuat populasi yang terdiri atas kromosom berepresentasi biner (1/0).\n",
        "\n",
        "Memiliki 2 buah parameter length dan n\n",
        "\n",
        "\n",
        "1.   length merupakan panjang dari kromosom itu\n",
        "2.   n merupakan jumlah kromosom di dalam populasi\n",
        "\n"
      ]
    },
    {
      "cell_type": "code",
      "metadata": {
        "id": "5YW5PYW5G9Y8"
      },
      "source": [
        "def generate_population(length, n):\n",
        "    populasi = []\n",
        "    for i in range(n):\n",
        "        kromosom = []\n",
        "        for j in range(length):\n",
        "            kromosom.append(random.randint(0, 1))\n",
        "        populasi.append(kromosom)\n",
        "    \n",
        "    return populasi"
      ],
      "execution_count": null,
      "outputs": []
    },
    {
      "cell_type": "markdown",
      "metadata": {
        "id": "QluVWRqxGcAA"
      },
      "source": [
        "## <strong>Decode Kromosom</strong>\n",
        "\n",
        "Fungsi decode(kromosom, constraint_x, constraint_y) berguna mendecode kromosom berepresentasi biner (1/0) menjadi x dan y.\n",
        "\n",
        "Memiliki 3 buah parameter yaitu kromosom, constraint_x dan constraint_x\n",
        "\n",
        "\n",
        "1.   kromosom berisi kromosom yang akan di decode\n",
        "2.   constraint_x dan constraint_y merupakan batasan\n"
      ]
    },
    {
      "cell_type": "code",
      "metadata": {
        "id": "LUwmF5VbHsVL"
      },
      "source": [
        "def decode(kromosom, constraint_x, constraint_y):\n",
        "    #Titik potong kromosom\n",
        "    half_kromosom = len(kromosom) \n",
        "\n",
        "    #Hitung bagian kromosom x\n",
        "    kx = 0\n",
        "    kromosom_x = kromosom[:half_kromosom]\n",
        "    for i in range(1, half_kromosom + 1):\n",
        "        kx = kx + kromosom_x[i-1] * (2 ** -i)\n",
        "\n",
        "    #Hitung bagian kromosom y\n",
        "    ky = 0\n",
        "    kromosom_y = kromosom[half_kromosom:]\n",
        "    for i in range(1, half_kromosom + 1):\n",
        "        ky += kromosom_y[i-1] * (2 ** -i)\n",
        "\n",
        "    #Hitung bagian Bawah Rumus\n",
        "    lower = sum([2 ** -(i) for i in range(1, half_kromosom + 1)])\n",
        "\n",
        "    # hitung x dan y\n",
        "    x = constraint_x[\"min\"] + (kx * (constraint_x[\"max\"] - constraint_x[\"min\"]) / lower)\n",
        "    y = constraint_y[\"min\"] + (ky * (constraint_y[\"max\"] - constraint_y[\"min\"]) / lower)\n",
        "\n",
        "    return x, y"
      ],
      "execution_count": null,
      "outputs": []
    },
    {
      "cell_type": "markdown",
      "metadata": {
        "id": "yJXXZcESIj5Z"
      },
      "source": [
        "## <strong>Fungsi</strong>\n",
        "\n",
        "Fungsi yang akan dicari nilai maksimumnya menggunakan Genetic Algorithm"
      ]
    },
    {
      "cell_type": "code",
      "metadata": {
        "id": "wKXxkjYvHygp"
      },
      "source": [
        "def fungsi(x,y) :\n",
        "  return ((math.cos(x) * math.cos(x)) * (math.sin(y) * math.sin(y)) + (x + y))\n",
        "\n"
      ],
      "execution_count": null,
      "outputs": []
    },
    {
      "cell_type": "markdown",
      "metadata": {
        "id": "3PFxueMEIWD9"
      },
      "source": [
        "## <strong>Fitness</strong>\n",
        "\n",
        "Nilai kualitas untuk suatu solusi permasalahan, nilai fitness ini dari sebuah kromosom, karena kita mencari nilai maksimum maka sama dengan nilai fungsi objektifnya yaitu *f = h*"
      ]
    },
    {
      "cell_type": "code",
      "metadata": {
        "id": "jgjyNAzfHsyc"
      },
      "source": [
        "def fitness(x, y):\n",
        "    return fungsi(x,y)"
      ],
      "execution_count": null,
      "outputs": []
    },
    {
      "cell_type": "markdown",
      "metadata": {
        "id": "CvEJTBicKVph"
      },
      "source": [
        "## <strong>Seleksi Orang Tua</strong>\n",
        "\n",
        "Seleksi orang tua dengan metode roulette wheel, berisi 2 buah parameter bernama populasi dan list_fitness"
      ]
    },
    {
      "cell_type": "code",
      "metadata": {
        "id": "IV6hU7F4Htvq"
      },
      "source": [
        "def seleksi_orangtua(populasi, list_fitness):\n",
        "    n = len(populasi)\n",
        "\n",
        "    #Mendapatkan nilai minimal dan maximal dari list_fitness\n",
        "    min_ = min(list_fitness)\n",
        "    max_ = max(list_fitness)\n",
        "    for i in range(n):\n",
        "      if (max_ - min_) != 0:\n",
        "        list_fitness[i] = (list_fitness[i] - min_) / (max_ - min_)\n",
        "      else:\n",
        "        break\n",
        "        \n",
        "\n",
        "    #Menjumlahkan semua nilai fitness\n",
        "    total_fit = sum(list_fitness)\n",
        "\n",
        "    #Roulette Whell hingga tersisa 2\n",
        "    orang_tua = []\n",
        "    while len(orang_tua) != 2:\n",
        "        rng, i = random.random(), -1\n",
        "        while rng > 0:\n",
        "            i = i + 1\n",
        "            rng = rng - (list_fitness[i] / total_fit)\n",
        "        orang_tua.append(populasi[i])\n",
        "\n",
        "    return orang_tua"
      ],
      "execution_count": null,
      "outputs": []
    },
    {
      "cell_type": "markdown",
      "metadata": {
        "id": "8m1JWdnOh3rK"
      },
      "source": [
        "## <strong>Crossover</strong>\n",
        "\n",
        "Seleksi orang tua dengan metode roulette wheel, berisi 2 buah parameter bernama populasi dan list_fitness"
      ]
    },
    {
      "cell_type": "code",
      "metadata": {
        "id": "z-QwCil3Hvkh"
      },
      "source": [
        "def crossover(orang_tua):\n",
        "\n",
        "    '''\n",
        "    Perkawinan silang antara 2 orang tua.\n",
        "\n",
        "    Input:\n",
        "        orang_tua : List berisi 2 kromosom.\n",
        "    \n",
        "    Output:\n",
        "        Hasil keturunan dari 2 orang tua.\n",
        "    '''\n",
        "\n",
        "    len_krom = len(orang_tua[0])\n",
        "\n",
        "    # pilih secara random titik perkawinan\n",
        "    cross_point = random.randint(0, len_krom)\n",
        "\n",
        "    # buat 2 anak dengan melakukan persilangan\n",
        "    anak = [0, 0]\n",
        "    anak[0] = orang_tua[0][:cross_point] + orang_tua[1][cross_point:]\n",
        "    anak[1] = orang_tua[1][:cross_point] + orang_tua[0][cross_point:]\n",
        "    \n",
        "    return anak"
      ],
      "execution_count": null,
      "outputs": []
    },
    {
      "cell_type": "markdown",
      "metadata": {
        "id": "NzMYKtiBi21b"
      },
      "source": [
        "## <strong>Mutation</strong>\n",
        "\n",
        "Mutasi adalah proses pengubahan gen di\n",
        "dalam sebuah kromosom. Proses Mutasi akan\n",
        "dimulai setelah proses crossover selesai\n",
        "dilakukan.Dalam program ini proses mutasi diwakili dengan fungsi mutation yang memiliki parameter anak dan prob"
      ]
    },
    {
      "cell_type": "code",
      "metadata": {
        "id": "WaaFWRODHwex"
      },
      "source": [
        "def mutation(anak, prob):\n",
        "\n",
        "    '''\n",
        "    Melakukan mutasi dengan kemungkinan prob pada anak hasil perkawinan.\n",
        "\n",
        "    Input:\n",
        "        anak : List berisi 2 kromosom.\n",
        "        prob : Kemungkinan mutasi terjadi dalam float.\n",
        "\n",
        "    Output:\n",
        "        List berisi 2 kromosom hasil mutasi.\n",
        "    '''\n",
        "\n",
        "    len_krom = len(anak[0])\n",
        "\n",
        "    for i in range(2):\n",
        "        for j in range(len_krom):\n",
        "            if random.random() <= prob:\n",
        "                anak[i][j] = [0, 1][ not anak[i][j] ]\n",
        "\n",
        "    return anak"
      ],
      "execution_count": null,
      "outputs": []
    },
    {
      "cell_type": "markdown",
      "metadata": {
        "id": "DOWHp7B3icgo"
      },
      "source": [
        "## <strong>Parameter</strong>\n",
        "parameter yang digunakan pada main program nantinya"
      ]
    },
    {
      "cell_type": "code",
      "metadata": {
        "id": "MRsDAD34HxZJ"
      },
      "source": [
        "# parameter\n",
        "prob_crossover, prob_mutasi = 0.8, 0.01\n",
        "n_pop, len_krom             = 10, 99\n",
        "n_elitisme                  = 2"
      ],
      "execution_count": null,
      "outputs": []
    },
    {
      "cell_type": "markdown",
      "metadata": {
        "id": "MBjnJc_NkFqg"
      },
      "source": [
        "## <strong>Main Program</strong>\n",
        "Program utama yang digunakan dalam melakukan pemecahan masalah fungsi dengan algoritma genetika"
      ]
    },
    {
      "cell_type": "code",
      "metadata": {
        "id": "VJskD9L-HzcK",
        "colab": {
          "base_uri": "https://localhost:8080/",
          "height": 350
        },
        "outputId": "012fc834-8589-488c-9933-85bf9ed11a89"
      },
      "source": [
        "#Constraint\n",
        "Constraint_x = {\"min\" : -1, \"max\" : 2}\n",
        "Constraint_y = {\"min\" : -1, \"max\" : 1}\n",
        "\n",
        "gen     = 10000 # total generasi\n",
        "best    = [] # fitness terbaik dalam generasi\n",
        "pop     = generate_population(len_krom, n_pop) # inisial populasi\n",
        "pop\n",
        "\n",
        "\n",
        "for i in range(gen):\n",
        "\n",
        "    # hitung fitness dari seluruh kromosom\n",
        "    fitness_pop = []\n",
        "    for kromosom in pop:\n",
        "        x, y = decode(kromosom, Constraint_x, Constraint_y)\n",
        "        fitness_pop.append(fitness(x, y))\n",
        "    \n",
        "    # cari fitness terbaik dalam populasi\n",
        "    best.append( max(fitness_pop) )\n",
        "    \n",
        "    # sort populasi berdasarkan fitness\n",
        "    sorted_pop = [k for _, k in sorted(zip(fitness_pop, pop), reverse=True)]\n",
        "    \n",
        "    # elitisme\n",
        "    new_pop = sorted_pop[:n_elitisme]\n",
        "    \n",
        "    if best[i] != best[i-1]:\n",
        "      print(f\"Generasi terbaik pada generasi ke-{i + 1}, dengan nilai fungsi maximum: {best[i]}\")\n",
        "      print(f\"Nilai X :\", x)\n",
        "      print(f\"Nilai Y :\", y)\n",
        "  \n",
        "\n",
        "    while len(new_pop) != n_pop:\n",
        "\n",
        "        # lakukan seleksi orang tua pada populasi\n",
        "        orang_tua = seleksi_orangtua(pop, fitness_pop)\n",
        "\n",
        "        # lakukan crossover dan mutasi\n",
        "        if random.random() < prob_crossover:\n",
        "            anak = mutation(crossover(orang_tua), prob_mutasi)\n",
        "        else:\n",
        "            anak = orang_tua + []\n",
        "        \n",
        "        # bangun populasi baru\n",
        "        new_pop = new_pop + anak\n",
        "\n",
        "   \n",
        "    \n",
        "    pop = new_pop + []"
      ],
      "execution_count": null,
      "outputs": [
        {
          "output_type": "error",
          "ename": "IndexError",
          "evalue": "ignored",
          "traceback": [
            "\u001b[0;31m---------------------------------------------------------------------------\u001b[0m",
            "\u001b[0;31mIndexError\u001b[0m                                Traceback (most recent call last)",
            "\u001b[0;32m<ipython-input-13-5aa4df6a2113>\u001b[0m in \u001b[0;36m<module>\u001b[0;34m()\u001b[0m\n\u001b[1;32m     14\u001b[0m     \u001b[0mfitness_pop\u001b[0m \u001b[0;34m=\u001b[0m \u001b[0;34m[\u001b[0m\u001b[0;34m]\u001b[0m\u001b[0;34m\u001b[0m\u001b[0;34m\u001b[0m\u001b[0m\n\u001b[1;32m     15\u001b[0m     \u001b[0;32mfor\u001b[0m \u001b[0mkromosom\u001b[0m \u001b[0;32min\u001b[0m \u001b[0mpop\u001b[0m\u001b[0;34m:\u001b[0m\u001b[0;34m\u001b[0m\u001b[0;34m\u001b[0m\u001b[0m\n\u001b[0;32m---> 16\u001b[0;31m         \u001b[0mx\u001b[0m\u001b[0;34m,\u001b[0m \u001b[0my\u001b[0m \u001b[0;34m=\u001b[0m \u001b[0mdecode\u001b[0m\u001b[0;34m(\u001b[0m\u001b[0mkromosom\u001b[0m\u001b[0;34m,\u001b[0m \u001b[0mConstraint_x\u001b[0m\u001b[0;34m,\u001b[0m \u001b[0mConstraint_y\u001b[0m\u001b[0;34m)\u001b[0m\u001b[0;34m\u001b[0m\u001b[0;34m\u001b[0m\u001b[0m\n\u001b[0m\u001b[1;32m     17\u001b[0m         \u001b[0mfitness_pop\u001b[0m\u001b[0;34m.\u001b[0m\u001b[0mappend\u001b[0m\u001b[0;34m(\u001b[0m\u001b[0mfitness\u001b[0m\u001b[0;34m(\u001b[0m\u001b[0mx\u001b[0m\u001b[0;34m,\u001b[0m \u001b[0my\u001b[0m\u001b[0;34m)\u001b[0m\u001b[0;34m)\u001b[0m\u001b[0;34m\u001b[0m\u001b[0;34m\u001b[0m\u001b[0m\n\u001b[1;32m     18\u001b[0m \u001b[0;34m\u001b[0m\u001b[0m\n",
            "\u001b[0;32m<ipython-input-6-bd4abc064941>\u001b[0m in \u001b[0;36mdecode\u001b[0;34m(kromosom, constraint_x, constraint_y)\u001b[0m\n\u001b[1;32m     13\u001b[0m     \u001b[0mkromosom_y\u001b[0m \u001b[0;34m=\u001b[0m \u001b[0mkromosom\u001b[0m\u001b[0;34m[\u001b[0m\u001b[0mhalf_kromosom\u001b[0m\u001b[0;34m:\u001b[0m\u001b[0;34m]\u001b[0m\u001b[0;34m\u001b[0m\u001b[0;34m\u001b[0m\u001b[0m\n\u001b[1;32m     14\u001b[0m     \u001b[0;32mfor\u001b[0m \u001b[0mi\u001b[0m \u001b[0;32min\u001b[0m \u001b[0mrange\u001b[0m\u001b[0;34m(\u001b[0m\u001b[0;36m1\u001b[0m\u001b[0;34m,\u001b[0m \u001b[0mhalf_kromosom\u001b[0m \u001b[0;34m+\u001b[0m \u001b[0;36m1\u001b[0m\u001b[0;34m)\u001b[0m\u001b[0;34m:\u001b[0m\u001b[0;34m\u001b[0m\u001b[0;34m\u001b[0m\u001b[0m\n\u001b[0;32m---> 15\u001b[0;31m         \u001b[0mky\u001b[0m \u001b[0;34m+=\u001b[0m \u001b[0mkromosom_y\u001b[0m\u001b[0;34m[\u001b[0m\u001b[0mi\u001b[0m\u001b[0;34m-\u001b[0m\u001b[0;36m1\u001b[0m\u001b[0;34m]\u001b[0m \u001b[0;34m*\u001b[0m \u001b[0;34m(\u001b[0m\u001b[0;36m2\u001b[0m \u001b[0;34m**\u001b[0m \u001b[0;34m-\u001b[0m\u001b[0mi\u001b[0m\u001b[0;34m)\u001b[0m\u001b[0;34m\u001b[0m\u001b[0;34m\u001b[0m\u001b[0m\n\u001b[0m\u001b[1;32m     16\u001b[0m \u001b[0;34m\u001b[0m\u001b[0m\n\u001b[1;32m     17\u001b[0m     \u001b[0;31m#Hitung bagian Bawah Rumus\u001b[0m\u001b[0;34m\u001b[0m\u001b[0;34m\u001b[0m\u001b[0;34m\u001b[0m\u001b[0m\n",
            "\u001b[0;31mIndexError\u001b[0m: list index out of range"
          ]
        }
      ]
    }
  ]
}